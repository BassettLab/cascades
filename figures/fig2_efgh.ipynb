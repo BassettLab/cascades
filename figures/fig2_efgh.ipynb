{
 "cells": [
  {
   "cell_type": "code",
   "execution_count": 1,
   "metadata": {},
   "outputs": [
    {
     "name": "stdout",
     "output_type": "stream",
     "text": [
      "Requirement already up-to-date: pip in /anaconda3/lib/python3.6/site-packages (19.0.3)\n",
      "Requirement already satisfied: msgpack in /anaconda3/lib/python3.6/site-packages (0.6.1)\n",
      "Requirement already satisfied: mpmath in /anaconda3/lib/python3.6/site-packages (1.0.0)\n",
      "Requirement already satisfied: powerlaw in /anaconda3/lib/python3.6/site-packages (1.4.3)\n"
     ]
    }
   ],
   "source": [
    "import sys\n",
    "!{sys.executable} -m pip install --upgrade pip\n",
    "!{sys.executable} -m pip install msgpack\n",
    "!{sys.executable} -m pip install mpmath\n",
    "!{sys.executable} -m pip install powerlaw"
   ]
  },
  {
   "cell_type": "code",
   "execution_count": 1,
   "metadata": {},
   "outputs": [],
   "source": [
    "import powerlaw\n",
    "import numpy as np\n",
    "import scipy.io as sio"
   ]
  },
  {
   "cell_type": "code",
   "execution_count": 10,
   "metadata": {},
   "outputs": [],
   "source": [
    "np.seterr(divide='ignore', invalid='ignore')\n",
    "basedir = '/Users/harangju/Developer'\n",
    "x = sio.loadmat(basedir + '/fig2_def.mat')\n",
    "dur_var_name = 'durs_sim'\n",
    "(nrows,ncols) = x[dur_var_name].shape\n",
    "av_T = x['av_T'][0][0]"
   ]
  },
  {
   "cell_type": "code",
   "execution_count": null,
   "metadata": {},
   "outputs": [],
   "source": [
    "f = [[0]*ncols]*nrows\n",
    "# p = np.zeros((nrows,ncols,2))\n",
    "p = np.zeros((nrows,ncols))\n",
    "ci = np.zeros((nrows,ncols,2,2))\n",
    "for i in range(0,nrows):\n",
    "    for j in range(0,ncols):\n",
    "        print('MLE for ({}/{},{}/{})...'.format(i+1,nrows,j+1,ncols))\n",
    "        d = x[dur_var_name][i][j][0]\n",
    "        d = d[d<av_T-1]\n",
    "        if len(d) <= 1:\n",
    "            continue\n",
    "        fit = powerlaw.Fit(d, xmin=min(d), discrete=True)\n",
    "        f[i][j] = fit\n",
    "        p[i,j] = [fit.truncated_power_law.parameter1, fit.truncated_power_law.parameter2]\n",
    "p"
   ]
  },
  {
   "cell_type": "code",
   "execution_count": 44,
   "metadata": {},
   "outputs": [],
   "source": [
    "sio.savemat('/Users/harangju/Developer/tpl.mat', {'ft_pl':p})"
   ]
  }
 ],
 "metadata": {
  "kernelspec": {
   "display_name": "Python 3",
   "language": "python",
   "name": "python3"
  },
  "language_info": {
   "codemirror_mode": {
    "name": "ipython",
    "version": 3
   },
   "file_extension": ".py",
   "mimetype": "text/x-python",
   "name": "python",
   "nbconvert_exporter": "python",
   "pygments_lexer": "ipython3",
   "version": "3.6.8"
  }
 },
 "nbformat": 4,
 "nbformat_minor": 2
}
