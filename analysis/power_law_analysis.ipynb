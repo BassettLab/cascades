{
 "cells": [
  {
   "cell_type": "code",
   "execution_count": 1,
   "metadata": {},
   "outputs": [
    {
     "name": "stdout",
     "output_type": "stream",
     "text": [
      "Requirement already up-to-date: pip in /anaconda3/lib/python3.6/site-packages (19.0.3)\n",
      "Requirement already satisfied: msgpack in /anaconda3/lib/python3.6/site-packages (0.6.1)\n",
      "Requirement already satisfied: mpmath in /anaconda3/lib/python3.6/site-packages (1.0.0)\n",
      "Requirement already satisfied: powerlaw in /anaconda3/lib/python3.6/site-packages (1.4.3)\n"
     ]
    }
   ],
   "source": [
    "import sys\n",
    "!{sys.executable} -m pip install --upgrade pip\n",
    "!{sys.executable} -m pip install msgpack\n",
    "!{sys.executable} -m pip install mpmath\n",
    "!{sys.executable} -m pip install powerlaw"
   ]
  },
  {
   "cell_type": "code",
   "execution_count": 1,
   "metadata": {},
   "outputs": [],
   "source": [
    "import powerlaw\n",
    "import numpy as np\n",
    "import scipy.io as sio"
   ]
  },
  {
   "cell_type": "code",
   "execution_count": 10,
   "metadata": {},
   "outputs": [],
   "source": [
    "np.seterr(divide='ignore', invalid='ignore')\n",
    "x = sio.loadmat('/Users/harangju/Developer/dur_synth1.mat')\n",
    "dur_var_name = 'durs_sim'\n",
    "(nrows,ncols) = x[dur_var_name].shape\n",
    "av_T = x['av_T'][0][0]"
   ]
  },
  {
   "cell_type": "code",
   "execution_count": 48,
   "metadata": {},
   "outputs": [
    {
     "name": "stdout",
     "output_type": "stream",
     "text": [
      "MLE for (1/1,1/49)...\n"
     ]
    },
    {
     "ename": "ValueError",
     "evalue": "setting an array element with a sequence.",
     "output_type": "error",
     "traceback": [
      "\u001b[0;31m---------------------------------------------------------------------------\u001b[0m",
      "\u001b[0;31mValueError\u001b[0m                                Traceback (most recent call last)",
      "\u001b[0;32m<ipython-input-48-b41cba1b8acf>\u001b[0m in \u001b[0;36m<module>\u001b[0;34m()\u001b[0m\n\u001b[1;32m     13\u001b[0m         \u001b[0mfit\u001b[0m \u001b[0;34m=\u001b[0m \u001b[0mpowerlaw\u001b[0m\u001b[0;34m.\u001b[0m\u001b[0mFit\u001b[0m\u001b[0;34m(\u001b[0m\u001b[0md\u001b[0m\u001b[0;34m,\u001b[0m \u001b[0mxmin\u001b[0m\u001b[0;34m=\u001b[0m\u001b[0mmin\u001b[0m\u001b[0;34m(\u001b[0m\u001b[0md\u001b[0m\u001b[0;34m)\u001b[0m\u001b[0;34m,\u001b[0m \u001b[0mdiscrete\u001b[0m\u001b[0;34m=\u001b[0m\u001b[0;32mTrue\u001b[0m\u001b[0;34m)\u001b[0m\u001b[0;34m\u001b[0m\u001b[0;34m\u001b[0m\u001b[0m\n\u001b[1;32m     14\u001b[0m         \u001b[0mf\u001b[0m\u001b[0;34m[\u001b[0m\u001b[0mi\u001b[0m\u001b[0;34m]\u001b[0m\u001b[0;34m[\u001b[0m\u001b[0mj\u001b[0m\u001b[0;34m]\u001b[0m \u001b[0;34m=\u001b[0m \u001b[0mfit\u001b[0m\u001b[0;34m\u001b[0m\u001b[0;34m\u001b[0m\u001b[0m\n\u001b[0;32m---> 15\u001b[0;31m         \u001b[0mp\u001b[0m\u001b[0;34m[\u001b[0m\u001b[0mi\u001b[0m\u001b[0;34m,\u001b[0m\u001b[0mj\u001b[0m\u001b[0;34m]\u001b[0m \u001b[0;34m=\u001b[0m \u001b[0;34m[\u001b[0m\u001b[0mfit\u001b[0m\u001b[0;34m.\u001b[0m\u001b[0mtruncated_power_law\u001b[0m\u001b[0;34m.\u001b[0m\u001b[0mparameter1\u001b[0m\u001b[0;34m,\u001b[0m \u001b[0mfit\u001b[0m\u001b[0;34m.\u001b[0m\u001b[0mtruncated_power_law\u001b[0m\u001b[0;34m.\u001b[0m\u001b[0mparameter2\u001b[0m\u001b[0;34m]\u001b[0m\u001b[0;34m\u001b[0m\u001b[0;34m\u001b[0m\u001b[0m\n\u001b[0m\u001b[1;32m     16\u001b[0m         \u001b[0mcmp\u001b[0m\u001b[0;34m[\u001b[0m\u001b[0mi\u001b[0m\u001b[0;34m,\u001b[0m\u001b[0mj\u001b[0m\u001b[0;34m]\u001b[0m \u001b[0;34m=\u001b[0m \u001b[0mfit\u001b[0m\u001b[0;34m.\u001b[0m\u001b[0mdistribution_compare\u001b[0m\u001b[0;34m(\u001b[0m\u001b[0;34m'truncated_power_law'\u001b[0m\u001b[0;34m,\u001b[0m \u001b[0;34m'exponential'\u001b[0m\u001b[0;34m)\u001b[0m\u001b[0;34m\u001b[0m\u001b[0;34m\u001b[0m\u001b[0m\n\u001b[1;32m     17\u001b[0m \u001b[0mp\u001b[0m\u001b[0;34m\u001b[0m\u001b[0;34m\u001b[0m\u001b[0m\n",
      "\u001b[0;31mValueError\u001b[0m: setting an array element with a sequence."
     ]
    }
   ],
   "source": [
    "f = [[0]*ncols]*nrows\n",
    "# p = np.zeros((nrows,ncols,2))\n",
    "p = np.zeros((nrows,ncols))\n",
    "ci = np.zeros((nrows,ncols,2,2))\n",
    "cmp = np.zeros((nrows,ncols,2))\n",
    "for i in range(0,nrows):\n",
    "    for j in range(0,ncols):\n",
    "        print('MLE for ({}/{},{}/{})...'.format(i+1,nrows,j+1,ncols))\n",
    "        d = x[dur_var_name][i][j][0]\n",
    "        d = d[d<av_T-1]\n",
    "        if len(d) <= 1:\n",
    "            continue\n",
    "        fit = powerlaw.Fit(d, xmin=min(d), discrete=True)\n",
    "        f[i][j] = fit\n",
    "        p[i,j] = [fit.truncated_power_law.parameter1, fit.truncated_power_law.parameter2]\n",
    "        cmp[i,j] = fit.distribution_compare('truncated_power_law', 'exponential')\n",
    "p"
   ]
  },
  {
   "cell_type": "code",
   "execution_count": 44,
   "metadata": {},
   "outputs": [],
   "source": [
    "sio.savemat('/Users/harangju/Developer/tpl.mat', {'ft_pl':p, 'ft_cmp_exp':cmp})"
   ]
  },
  {
   "cell_type": "code",
   "execution_count": 62,
   "metadata": {},
   "outputs": [
    {
     "data": {
      "text/plain": [
       "{'Asquare': 0.06231979542714454,\n",
       " 'D': 0.0532767332257752,\n",
       " 'D_minus': 0.0532767332257752,\n",
       " 'D_plus': 0.0,\n",
       " 'Kappa': 0.9939150621172391,\n",
       " 'Lambda': 0.16931166244501744,\n",
       " 'V': 0.0532767332257752,\n",
       " 'alpha': 1.0000000160582057,\n",
       " 'discrete': True,\n",
       " 'discrete_approximation': 'round',\n",
       " 'fit_method': 'Likelihood',\n",
       " 'loglikelihood': -1822206.1617821394,\n",
       " 'noise_flag': False,\n",
       " 'parameter1': 1.0000000160582057,\n",
       " 'parameter1_name': 'alpha',\n",
       " 'parameter2': 0.16931166244501744,\n",
       " 'parameter2_name': 'lambda',\n",
       " 'parameter3': None,\n",
       " 'parameter3_name': None,\n",
       " 'parent_Fit': <powerlaw.Fit at 0x180cd747b8>,\n",
       " 'xmax': None,\n",
       " 'xmin': 1.0}"
      ]
     },
     "execution_count": 62,
     "metadata": {},
     "output_type": "execute_result"
    }
   ],
   "source": [
    "vars(f[0][0].truncated_power_law)"
   ]
  }
 ],
 "metadata": {
  "kernelspec": {
   "display_name": "Python 3",
   "language": "python",
   "name": "python3"
  },
  "language_info": {
   "codemirror_mode": {
    "name": "ipython",
    "version": 3
   },
   "file_extension": ".py",
   "mimetype": "text/x-python",
   "name": "python",
   "nbconvert_exporter": "python",
   "pygments_lexer": "ipython3",
   "version": "3.6.8"
  }
 },
 "nbformat": 4,
 "nbformat_minor": 2
}
