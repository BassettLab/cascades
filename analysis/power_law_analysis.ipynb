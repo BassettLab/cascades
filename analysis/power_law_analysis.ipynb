{
 "cells": [
  {
   "cell_type": "code",
   "execution_count": 1,
   "metadata": {},
   "outputs": [
    {
     "name": "stdout",
     "output_type": "stream",
     "text": [
      "Requirement already satisfied: msgpack in /anaconda3/lib/python3.6/site-packages (0.6.1)\n",
      "\u001b[33mYou are using pip version 10.0.1, however version 19.0.3 is available.\n",
      "You should consider upgrading via the 'pip install --upgrade pip' command.\u001b[0m\n",
      "Requirement already satisfied: mpmath in /anaconda3/lib/python3.6/site-packages (1.0.0)\n",
      "\u001b[33mYou are using pip version 10.0.1, however version 19.0.3 is available.\n",
      "You should consider upgrading via the 'pip install --upgrade pip' command.\u001b[0m\n",
      "Requirement already satisfied: powerlaw in /anaconda3/lib/python3.6/site-packages (1.4.6)\n",
      "Requirement already satisfied: numpy in /anaconda3/lib/python3.6/site-packages (from powerlaw) (1.14.3)\n",
      "Requirement already satisfied: scipy in /anaconda3/lib/python3.6/site-packages (from powerlaw) (1.1.0)\n",
      "Requirement already satisfied: mpmath in /anaconda3/lib/python3.6/site-packages (from powerlaw) (1.0.0)\n",
      "Requirement already satisfied: matplotlib in /anaconda3/lib/python3.6/site-packages (from powerlaw) (2.2.2)\n",
      "Requirement already satisfied: cycler>=0.10 in /anaconda3/lib/python3.6/site-packages (from matplotlib->powerlaw) (0.10.0)\n",
      "Requirement already satisfied: pyparsing!=2.0.4,!=2.1.2,!=2.1.6,>=2.0.1 in /anaconda3/lib/python3.6/site-packages (from matplotlib->powerlaw) (2.2.0)\n",
      "Requirement already satisfied: python-dateutil>=2.1 in /anaconda3/lib/python3.6/site-packages (from matplotlib->powerlaw) (2.7.3)\n",
      "Requirement already satisfied: pytz in /anaconda3/lib/python3.6/site-packages (from matplotlib->powerlaw) (2018.4)\n",
      "Requirement already satisfied: six>=1.10 in /anaconda3/lib/python3.6/site-packages (from matplotlib->powerlaw) (1.11.0)\n",
      "Requirement already satisfied: kiwisolver>=1.0.1 in /anaconda3/lib/python3.6/site-packages (from matplotlib->powerlaw) (1.0.1)\n",
      "Requirement already satisfied: setuptools in /anaconda3/lib/python3.6/site-packages (from kiwisolver>=1.0.1->matplotlib->powerlaw) (39.1.0)\n",
      "\u001b[33mYou are using pip version 10.0.1, however version 19.0.3 is available.\n",
      "You should consider upgrading via the 'pip install --upgrade pip' command.\u001b[0m\n"
     ]
    }
   ],
   "source": [
    "import sys\n",
    "!{sys.executable} -m pip install msgpack\n",
    "!{sys.executable} -m pip install mpmath\n",
    "!{sys.executable} -m pip install powerlaw"
   ]
  },
  {
   "cell_type": "code",
   "execution_count": 29,
   "metadata": {},
   "outputs": [],
   "source": [
    "import powerlaw\n",
    "import numpy as np\n",
    "import scipy.io as sio"
   ]
  },
  {
   "cell_type": "code",
   "execution_count": 40,
   "metadata": {},
   "outputs": [],
   "source": [
    "np.seterr(divide='ignore', invalid='ignore')\n",
    "x = sio.loadmat('synth.mat')\n",
    "(nrows,ncols) = x['durs'].shape\n",
    "f = [[0]*ncols]*nrows\n",
    "p = np.zeros((nrows,ncols,2))"
   ]
  },
  {
   "cell_type": "code",
   "execution_count": 45,
   "metadata": {},
   "outputs": [
    {
     "name": "stdout",
     "output_type": "stream",
     "text": [
      "MLE for (0,0)...\n",
      "MLE for (0,1)...\n",
      "MLE for (0,2)...\n",
      "MLE for (1,0)...\n",
      "MLE for (1,1)...\n",
      "MLE for (1,2)...\n",
      "MLE for (2,0)...\n",
      "MLE for (2,1)...\n",
      "MLE for (2,2)...\n",
      "MLE for (3,0)...\n",
      "MLE for (3,1)...\n",
      "MLE for (3,2)...\n",
      "MLE for (4,0)...\n",
      "MLE for (4,1)...\n",
      "MLE for (4,2)...\n",
      "MLE for (5,0)...\n",
      "MLE for (5,1)...\n",
      "MLE for (5,2)...\n",
      "MLE for (6,0)...\n",
      "MLE for (6,1)...\n",
      "MLE for (6,2)...\n",
      "MLE for (7,0)...\n",
      "MLE for (7,1)...\n",
      "MLE for (7,2)...\n",
      "MLE for (8,0)...\n",
      "MLE for (8,1)...\n",
      "MLE for (8,2)...\n",
      "MLE for (9,0)...\n",
      "MLE for (9,1)...\n",
      "MLE for (9,2)...\n",
      "MLE for (10,0)...\n",
      "MLE for (10,1)...\n",
      "MLE for (10,2)...\n",
      "MLE for (11,0)...\n",
      "MLE for (11,1)...\n",
      "MLE for (11,2)...\n"
     ]
    },
    {
     "data": {
      "text/plain": [
       "array([[[1.00000000e+00, 4.50118680e-01],\n",
       "        [1.00000000e+00, 2.99193913e-01],\n",
       "        [1.00813019e+00, 1.57496322e-01]],\n",
       "\n",
       "       [[1.00000000e+00, 3.13228832e-01],\n",
       "        [1.01543121e+00, 1.48470326e-01],\n",
       "        [1.51474355e+00, 1.02413537e-04]],\n",
       "\n",
       "       [[1.00000002e+00, 2.41594217e-01],\n",
       "        [1.21605750e+00, 5.51022258e-02],\n",
       "        [0.00000000e+00, 0.00000000e+00]],\n",
       "\n",
       "       [[1.00000000e+00, 4.56086145e-01],\n",
       "        [1.00000000e+00, 2.74876513e-01],\n",
       "        [1.01263752e+00, 1.49862018e-01]],\n",
       "\n",
       "       [[1.00000001e+00, 3.28112494e-01],\n",
       "        [1.00000000e+00, 3.77230406e-01],\n",
       "        [1.47926840e+00, 4.57251561e-03]],\n",
       "\n",
       "       [[1.00000000e+00, 2.76148119e-01],\n",
       "        [1.09415314e+00, 1.00288464e-01],\n",
       "        [0.00000000e+00, 0.00000000e+00]],\n",
       "\n",
       "       [[1.00000001e+00, 4.72585578e-01],\n",
       "        [1.00000001e+00, 2.91003944e-01],\n",
       "        [1.00000000e+00, 1.68122996e-01]],\n",
       "\n",
       "       [[1.00000000e+00, 3.64183950e-01],\n",
       "        [1.00000001e+00, 1.96791826e-01],\n",
       "        [1.28825721e+00, 3.08579412e-02]],\n",
       "\n",
       "       [[1.00000000e+00, 3.12754704e-01],\n",
       "        [1.00164004e+00, 1.46047812e-01],\n",
       "        [1.50343493e+00, 1.07041164e-04]],\n",
       "\n",
       "       [[1.00000000e+00, 4.46559419e-01],\n",
       "        [1.00000000e+00, 2.83899603e-01],\n",
       "        [1.00325471e+00, 1.53161267e-01]],\n",
       "\n",
       "       [[1.00000000e+00, 3.07767532e-01],\n",
       "        [1.01176039e+00, 1.47885483e-01],\n",
       "        [1.51117738e+00, 1.08640686e-04]],\n",
       "\n",
       "       [[1.00000000e+00, 2.65153607e-01],\n",
       "        [1.14309733e+00, 8.05140637e-02],\n",
       "        [0.00000000e+00, 0.00000000e+00]]])"
      ]
     },
     "execution_count": 45,
     "metadata": {},
     "output_type": "execute_result"
    }
   ],
   "source": [
    "for i in range(0,nrows):\n",
    "    for j in range(0,ncols):\n",
    "        print('MLE for ({},{})...'.format(i,j))\n",
    "        d = x['durs'][i][j][0]\n",
    "        d = d[d<999]\n",
    "        if len(d) <= 1:\n",
    "            continue\n",
    "#         fit = powerlaw.Fit(d, xmin=min(d), xmax=max(d), discrete=True)\n",
    "        fit = powerlaw.Fit(d, xmin=min(d), discrete=True)\n",
    "        f[i][j] = fit\n",
    "        p[i,j] = [fit.truncated_power_law.parameter1, fit.truncated_power_law.parameter2]\n",
    "p"
   ]
  },
  {
   "cell_type": "code",
   "execution_count": 44,
   "metadata": {},
   "outputs": [],
   "source": [
    "sio.savemat('tpl.mat', {'pl_dp':p})"
   ]
  }
 ],
 "metadata": {
  "kernelspec": {
   "display_name": "Python 3",
   "language": "python",
   "name": "python3"
  },
  "language_info": {
   "codemirror_mode": {
    "name": "ipython",
    "version": 3
   },
   "file_extension": ".py",
   "mimetype": "text/x-python",
   "name": "python",
   "nbconvert_exporter": "python",
   "pygments_lexer": "ipython3",
   "version": "3.6.5"
  }
 },
 "nbformat": 4,
 "nbformat_minor": 2
}
