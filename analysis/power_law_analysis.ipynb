{
 "cells": [
  {
   "cell_type": "code",
   "execution_count": null,
   "metadata": {},
   "outputs": [],
   "source": [
    "import sys\n",
    "!{sys.executable} -m pip install --upgrade pip\n",
    "!{sys.executable} -m pip install msgpack\n",
    "!{sys.executable} -m pip install mpmath\n",
    "!{sys.executable} -m pip install powerlaw"
   ]
  },
  {
   "cell_type": "code",
   "execution_count": 64,
   "metadata": {},
   "outputs": [],
   "source": [
    "import powerlaw\n",
    "import numpy as np\n",
    "import scipy.io as sio"
   ]
  },
  {
   "cell_type": "code",
   "execution_count": 70,
   "metadata": {},
   "outputs": [
    {
     "name": "stderr",
     "output_type": "stream",
     "text": [
      "/anaconda3/lib/python3.6/site-packages/scipy/io/matlab/mio.py:142: MatReadWarning: Duplicate variable name \"None\" in stream - replacing previous with new\n",
      "Consider mio5.varmats_from_mat to split file into single variable files\n",
      "  matfile_dict = MR.get_variables(variable_names)\n"
     ]
    }
   ],
   "source": [
    "np.seterr(divide='ignore', invalid='ignore')\n",
    "x = sio.loadmat('/Users/harangju/Developer/matlab.mat')\n",
    "(nrows,ncols) = x['durs_sim'].shape\n",
    "# av_T = x['av_T'][0][0]"
   ]
  },
  {
   "cell_type": "code",
   "execution_count": 71,
   "metadata": {},
   "outputs": [
    {
     "name": "stdout",
     "output_type": "stream",
     "text": [
      "MLE for (1/1,1/25)...\n",
      "MLE for (1/1,2/25)...\n",
      "MLE for (1/1,3/25)...\n",
      "MLE for (1/1,4/25)...\n",
      "MLE for (1/1,5/25)...\n",
      "MLE for (1/1,6/25)...\n",
      "MLE for (1/1,7/25)...\n",
      "MLE for (1/1,8/25)...\n",
      "MLE for (1/1,9/25)...\n",
      "MLE for (1/1,10/25)...\n",
      "MLE for (1/1,11/25)...\n",
      "MLE for (1/1,12/25)...\n",
      "MLE for (1/1,13/25)...\n",
      "MLE for (1/1,14/25)...\n",
      "MLE for (1/1,15/25)...\n",
      "MLE for (1/1,16/25)...\n",
      "MLE for (1/1,17/25)...\n",
      "MLE for (1/1,18/25)...\n",
      "MLE for (1/1,19/25)...\n",
      "MLE for (1/1,20/25)...\n",
      "MLE for (1/1,21/25)...\n",
      "MLE for (1/1,22/25)...\n",
      "MLE for (1/1,23/25)...\n",
      "MLE for (1/1,24/25)...\n",
      "MLE for (1/1,25/25)...\n"
     ]
    },
    {
     "data": {
      "text/plain": [
       "array([[[1.        , 0.16954291],\n",
       "        [1.45151064, 0.29728978],\n",
       "        [1.00000001, 0.13272457],\n",
       "        [1.        , 0.11187776],\n",
       "        [1.06690194, 0.14497121],\n",
       "        [1.03274942, 0.07530801],\n",
       "        [1.        , 0.12804419],\n",
       "        [1.        , 0.22640825],\n",
       "        [1.        , 0.11721566],\n",
       "        [1.10127962, 0.07505614],\n",
       "        [1.        , 0.38259373],\n",
       "        [1.        , 0.38003522],\n",
       "        [1.        , 0.2703801 ],\n",
       "        [1.        , 0.06913915],\n",
       "        [1.00000002, 0.08913913],\n",
       "        [1.02339885, 0.08513525],\n",
       "        [1.        , 0.16091947],\n",
       "        [1.03913276, 0.1366292 ],\n",
       "        [1.33087037, 0.00346689],\n",
       "        [1.20478745, 0.06092521],\n",
       "        [1.09905268, 0.4017569 ],\n",
       "        [1.42464652, 0.12996005],\n",
       "        [1.47691277, 0.00684995],\n",
       "        [1.23035231, 0.09973314],\n",
       "        [1.52034979, 0.17290214]]])"
      ]
     },
     "execution_count": 71,
     "metadata": {},
     "output_type": "execute_result"
    }
   ],
   "source": [
    "f = [[0]*ncols]*nrows\n",
    "p = np.zeros((nrows,ncols,2))\n",
    "ci = np.zeros((nrows,ncols,2,2))\n",
    "for i in range(0,nrows):\n",
    "    for j in range(0,ncols):\n",
    "        print('MLE for ({}/{},{}/{})...'.format(i+1,nrows,j+1,ncols))\n",
    "        d = x['durs_sim'][i][j][0]\n",
    "#         d = d[d<av_T-1]\n",
    "        if len(d) <= 1:\n",
    "            continue\n",
    "#         fit = powerlaw.Fit(d, xmin=min(d), xmax=max(d), discrete=True)\n",
    "        fit = powerlaw.Fit(d, xmin=min(d), discrete=True)\n",
    "        f[i][j] = fit\n",
    "        p[i,j] = [fit.truncated_power_law.parameter1, fit.truncated_power_law.parameter2]\n",
    "p"
   ]
  },
  {
   "cell_type": "code",
   "execution_count": 72,
   "metadata": {},
   "outputs": [],
   "source": [
    "sio.savemat('/Users/harangju/Developer/tpl.mat', {'ft_pl':p})"
   ]
  },
  {
   "cell_type": "code",
   "execution_count": 62,
   "metadata": {},
   "outputs": [
    {
     "data": {
      "text/plain": [
       "{'Asquare': 0.06231979542714454,\n",
       " 'D': 0.0532767332257752,\n",
       " 'D_minus': 0.0532767332257752,\n",
       " 'D_plus': 0.0,\n",
       " 'Kappa': 0.9939150621172391,\n",
       " 'Lambda': 0.16931166244501744,\n",
       " 'V': 0.0532767332257752,\n",
       " 'alpha': 1.0000000160582057,\n",
       " 'discrete': True,\n",
       " 'discrete_approximation': 'round',\n",
       " 'fit_method': 'Likelihood',\n",
       " 'loglikelihood': -1822206.1617821394,\n",
       " 'noise_flag': False,\n",
       " 'parameter1': 1.0000000160582057,\n",
       " 'parameter1_name': 'alpha',\n",
       " 'parameter2': 0.16931166244501744,\n",
       " 'parameter2_name': 'lambda',\n",
       " 'parameter3': None,\n",
       " 'parameter3_name': None,\n",
       " 'parent_Fit': <powerlaw.Fit at 0x180cd747b8>,\n",
       " 'xmax': None,\n",
       " 'xmin': 1.0}"
      ]
     },
     "execution_count": 62,
     "metadata": {},
     "output_type": "execute_result"
    }
   ],
   "source": [
    "vars(f[0][0].truncated_power_law)"
   ]
  }
 ],
 "metadata": {
  "kernelspec": {
   "display_name": "Python 3",
   "language": "python",
   "name": "python3"
  },
  "language_info": {
   "codemirror_mode": {
    "name": "ipython",
    "version": 3
   },
   "file_extension": ".py",
   "mimetype": "text/x-python",
   "name": "python",
   "nbconvert_exporter": "python",
   "pygments_lexer": "ipython3",
   "version": "3.6.8"
  }
 },
 "nbformat": 4,
 "nbformat_minor": 2
}
