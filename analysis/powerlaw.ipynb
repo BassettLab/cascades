{
 "cells": [
  {
   "cell_type": "code",
   "execution_count": 4,
   "metadata": {},
   "outputs": [
    {
     "name": "stdout",
     "output_type": "stream",
     "text": [
      "Requirement already satisfied: msgpack in /anaconda3/lib/python3.6/site-packages (0.6.1)\n",
      "\u001b[33mYou are using pip version 10.0.1, however version 19.0.3 is available.\n",
      "You should consider upgrading via the 'pip install --upgrade pip' command.\u001b[0m\n",
      "Requirement already satisfied: mpmath in /anaconda3/lib/python3.6/site-packages (1.0.0)\n",
      "\u001b[33mYou are using pip version 10.0.1, however version 19.0.3 is available.\n",
      "You should consider upgrading via the 'pip install --upgrade pip' command.\u001b[0m\n",
      "Requirement already satisfied: powerlaw in /anaconda3/lib/python3.6/site-packages (1.4.6)\n",
      "Requirement already satisfied: numpy in /anaconda3/lib/python3.6/site-packages (from powerlaw) (1.14.3)\n",
      "Requirement already satisfied: scipy in /anaconda3/lib/python3.6/site-packages (from powerlaw) (1.1.0)\n",
      "Requirement already satisfied: mpmath in /anaconda3/lib/python3.6/site-packages (from powerlaw) (1.0.0)\n",
      "Requirement already satisfied: matplotlib in /anaconda3/lib/python3.6/site-packages (from powerlaw) (2.2.2)\n",
      "Requirement already satisfied: cycler>=0.10 in /anaconda3/lib/python3.6/site-packages (from matplotlib->powerlaw) (0.10.0)\n",
      "Requirement already satisfied: pyparsing!=2.0.4,!=2.1.2,!=2.1.6,>=2.0.1 in /anaconda3/lib/python3.6/site-packages (from matplotlib->powerlaw) (2.2.0)\n",
      "Requirement already satisfied: python-dateutil>=2.1 in /anaconda3/lib/python3.6/site-packages (from matplotlib->powerlaw) (2.7.3)\n",
      "Requirement already satisfied: pytz in /anaconda3/lib/python3.6/site-packages (from matplotlib->powerlaw) (2018.4)\n",
      "Requirement already satisfied: six>=1.10 in /anaconda3/lib/python3.6/site-packages (from matplotlib->powerlaw) (1.11.0)\n",
      "Requirement already satisfied: kiwisolver>=1.0.1 in /anaconda3/lib/python3.6/site-packages (from matplotlib->powerlaw) (1.0.1)\n",
      "Requirement already satisfied: setuptools in /anaconda3/lib/python3.6/site-packages (from kiwisolver>=1.0.1->matplotlib->powerlaw) (39.1.0)\n",
      "\u001b[33mYou are using pip version 10.0.1, however version 19.0.3 is available.\n",
      "You should consider upgrading via the 'pip install --upgrade pip' command.\u001b[0m\n"
     ]
    }
   ],
   "source": [
    "import sys\n",
    "!{sys.executable} -m pip install msgpack\n",
    "!{sys.executable} -m pip install mpmath\n",
    "!{sys.executable} -m pip install powerlaw"
   ]
  },
  {
   "cell_type": "code",
   "execution_count": 38,
   "metadata": {},
   "outputs": [],
   "source": [
    "import powerlaw\n",
    "from scipy.io import loadmat\n",
    "import numpy as np"
   ]
  },
  {
   "cell_type": "code",
   "execution_count": 39,
   "metadata": {},
   "outputs": [
    {
     "data": {
      "text/plain": [
       "{'divide': 'warn', 'over': 'warn', 'under': 'ignore', 'invalid': 'warn'}"
      ]
     },
     "execution_count": 39,
     "metadata": {},
     "output_type": "execute_result"
    }
   ],
   "source": [
    "x = loadmat('synth.mat')\n",
    "np.seterr(divide='ignore', invalid='ignore')"
   ]
  },
  {
   "cell_type": "code",
   "execution_count": 29,
   "metadata": {},
   "outputs": [
    {
     "data": {
      "text/plain": [
       "(6, 4)"
      ]
     },
     "execution_count": 29,
     "metadata": {},
     "output_type": "execute_result"
    }
   ],
   "source": [
    "x['durs'].shape"
   ]
  },
  {
   "cell_type": "code",
   "execution_count": 44,
   "metadata": {},
   "outputs": [
    {
     "data": {
      "text/plain": [
       "array([ 3, 13, 11, ...,  2,  3,  8], dtype=uint8)"
      ]
     },
     "execution_count": 44,
     "metadata": {},
     "output_type": "execute_result"
    }
   ],
   "source": [
    "x['durs'][0][0][0]"
   ]
  },
  {
   "cell_type": "code",
   "execution_count": 112,
   "metadata": {},
   "outputs": [
    {
     "name": "stdout",
     "output_type": "stream",
     "text": [
      "(1.0,77.0), a=2.154867363073726, s=0.00666762982948929\n"
     ]
    }
   ],
   "source": [
    "i=0\n",
    "j=0\n",
    "d = x['durs'][i][j][0]\n",
    "fit = powerlaw.Fit(d, xmin=min(d), xmax=max(d))\n",
    "# fit = powerlaw.Fit(d, xmin=min(d), xmax=30)\n",
    "# fit = powerlaw.Fit(d)\n",
    "print('({},{}), a={}, s={}'.format(fit.xmin, fit.xmax, fit.alpha, fit.sigma))"
   ]
  },
  {
   "cell_type": "markdown",
   "metadata": {},
   "source": [
    "#### Power law"
   ]
  },
  {
   "cell_type": "code",
   "execution_count": 113,
   "metadata": {},
   "outputs": [
    {
     "data": {
      "text/plain": [
       "<matplotlib.axes._subplots.AxesSubplot at 0x1a24467518>"
      ]
     },
     "execution_count": 113,
     "metadata": {},
     "output_type": "execute_result"
    },
    {
     "data": {
      "image/png": "[encoded data removed]",
      "text/plain": [
       "<Figure size 432x288 with 1 Axes>"
      ]
     },
     "metadata": {},
     "output_type": "display_data"
    }
   ],
   "source": [
    "fig = powerlaw.plot_pdf(d)\n",
    "fit.power_law.plot_pdf(linestyle='--', ax=fig)"
   ]
  },
  {
   "cell_type": "markdown",
   "metadata": {},
   "source": [
    "#### Truncated power law"
   ]
  },
  {
   "cell_type": "code",
   "execution_count": 114,
   "metadata": {},
   "outputs": [
    {
     "name": "stderr",
     "output_type": "stream",
     "text": [
      "Assuming nested distributions\n"
     ]
    },
    {
     "data": {
      "text/plain": [
       "(-121.68412910693371, 0.0)"
      ]
     },
     "execution_count": 114,
     "metadata": {},
     "output_type": "execute_result"
    },
    {
     "data": {
      "image/png": "[encoded data removed]",
      "text/plain": [
       "<Figure size 432x288 with 1 Axes>"
      ]
     },
     "metadata": {},
     "output_type": "display_data"
    }
   ],
   "source": [
    "fig = powerlaw.plot_pdf(d)\n",
    "fit.power_law.plot_pdf(color='r', linestyle='--', ax=fig)\n",
    "fit.truncated_power_law.plot_pdf(color='g', linestyle='--', ax=fig)\n",
    "fit.distribution_compare('power_law', 'truncated_power_law')"
   ]
  },
  {
   "cell_type": "code",
   "execution_count": 120,
   "metadata": {},
   "outputs": [
    {
     "name": "stdout",
     "output_type": "stream",
     "text": [
      "86.06905631394615\n"
     ]
    },
    {
     "data": {
      "text/plain": [
       "{'xmin': 1.0,\n",
       " 'xmax': 77.0,\n",
       " 'discrete': False,\n",
       " 'fit_method': 'Likelihood',\n",
       " 'discrete_approximation': 'round',\n",
       " 'parameter1': 2.0475858460005743,\n",
       " 'parameter2': 0.011618577486807714,\n",
       " 'parameter3': None,\n",
       " 'parameter1_name': 'alpha',\n",
       " 'parameter2_name': 'lambda',\n",
       " 'parameter3_name': None,\n",
       " 'parent_Fit': <powerlaw.Fit at 0x1a24a8ab38>,\n",
       " 'alpha': 2.0475858460005743,\n",
       " 'Lambda': 0.011618577486807714,\n",
       " 'noise_flag': False,\n",
       " 'loglikelihood': -51535.759964600365,\n",
       " 'D_plus': 0.13381639703821446,\n",
       " 'D_minus': 0.004583160159634114,\n",
       " 'Kappa': 1.0105843221276913,\n",
       " 'V': 0.13839955719784858,\n",
       " 'D': 0.13381639703821446,\n",
       " 'Asquare': inf}"
      ]
     },
     "execution_count": 120,
     "metadata": {},
     "output_type": "execute_result"
    }
   ],
   "source": [
    "print('{}'.format(1/fit.truncated_power_law.parameter2))\n",
    "vars(fit.truncated_power_law)"
   ]
  },
  {
   "cell_type": "markdown",
   "metadata": {},
   "source": [
    "#### Exponential"
   ]
  },
  {
   "cell_type": "code",
   "execution_count": 116,
   "metadata": {},
   "outputs": [
    {
     "data": {
      "text/plain": [
       "(10197.54707049016, 0.0)"
      ]
     },
     "execution_count": 116,
     "metadata": {},
     "output_type": "execute_result"
    },
    {
     "data": {
      "image/png": "[encoded data removed]",
      "text/plain": [
       "<Figure size 432x288 with 1 Axes>"
      ]
     },
     "metadata": {},
     "output_type": "display_data"
    }
   ],
   "source": [
    "fig = powerlaw.plot_pdf(d)\n",
    "fit.power_law.plot_pdf(color='r', linestyle='--', ax=fig)\n",
    "fit.exponential.plot_pdf(color='g', linestyle='--', ax=fig)\n",
    "fit.distribution_compare('power_law', 'exponential')"
   ]
  },
  {
   "cell_type": "markdown",
   "metadata": {},
   "source": [
    "#### Lognormal"
   ]
  },
  {
   "cell_type": "code",
   "execution_count": 117,
   "metadata": {},
   "outputs": [
    {
     "name": "stderr",
     "output_type": "stream",
     "text": [
      "'nan' in fit cumulative distribution values.\n",
      "Likely underflow or overflow error: the optimal fit for this distribution gives values that are so extreme that we lack the numerical precision to calculate them.\n"
     ]
    },
    {
     "data": {
      "text/plain": [
       "(-6.327004840936194, 8.280409741132635e-14)"
      ]
     },
     "execution_count": 117,
     "metadata": {},
     "output_type": "execute_result"
    },
    {
     "data": {
      "image/png": "[encoded data removed]",
      "text/plain": [
       "<Figure size 432x288 with 1 Axes>"
      ]
     },
     "metadata": {},
     "output_type": "display_data"
    }
   ],
   "source": [
    "fig = powerlaw.plot_pdf(d)\n",
    "fit.power_law.plot_pdf(color='r', linestyle='--', ax=fig)\n",
    "fit.lognormal.plot_pdf(color='g', linestyle='--', ax=fig)\n",
    "fit.distribution_compare('power_law', 'lognormal')"
   ]
  }
 ],
 "metadata": {
  "kernelspec": {
   "display_name": "Python 3",
   "language": "python",
   "name": "python3"
  },
  "language_info": {
   "codemirror_mode": {
    "name": "ipython",
    "version": 3
   },
   "file_extension": ".py",
   "mimetype": "text/x-python",
   "name": "python",
   "nbconvert_exporter": "python",
   "pygments_lexer": "ipython3",
   "version": "3.6.5"
  }
 },
 "nbformat": 4,
 "nbformat_minor": 2
}
