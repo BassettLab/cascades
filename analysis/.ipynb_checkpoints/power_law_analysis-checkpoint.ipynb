{
 "cells": [
  {
   "cell_type": "code",
   "execution_count": 2,
   "metadata": {},
   "outputs": [
    {
     "name": "stdout",
     "output_type": "stream",
     "text": [
      "Collecting pip\n",
      "  Using cached https://files.pythonhosted.org/packages/d8/f3/413bab4ff08e1fc4828dfc59996d721917df8e8583ea85385d51125dceff/pip-19.0.3-py2.py3-none-any.whl\n",
      "Installing collected packages: pip\n",
      "  Found existing installation: pip 10.0.1\n",
      "    Uninstalling pip-10.0.1:\n",
      "      Successfully uninstalled pip-10.0.1\n",
      "Successfully installed pip-19.0.3\n",
      "Requirement already satisfied: msgpack in /anaconda3/lib/python3.6/site-packages (0.6.1)\n",
      "Requirement already satisfied: mpmath in /anaconda3/lib/python3.6/site-packages (1.0.0)\n",
      "Requirement already satisfied: powerlaw in /anaconda3/lib/python3.6/site-packages (1.4.3)\n"
     ]
    }
   ],
   "source": [
    "import sys\n",
    "!{sys.executable} -m pip install --upgrade pip\n",
    "!{sys.executable} -m pip install msgpack\n",
    "!{sys.executable} -m pip install mpmath\n",
    "!{sys.executable} -m pip install powerlaw"
   ]
  },
  {
   "cell_type": "code",
   "execution_count": 3,
   "metadata": {},
   "outputs": [],
   "source": [
    "import powerlaw\n",
    "import numpy as np\n",
    "import scipy.io as sio"
   ]
  },
  {
   "cell_type": "code",
   "execution_count": 8,
   "metadata": {},
   "outputs": [],
   "source": [
    "np.seterr(divide='ignore', invalid='ignore')\n",
    "x = sio.loadmat('/Users/harangju/Developer/matlab.mat')\n",
    "(nrows,ncols) = x['durs'].shape\n",
    "f = [[0]*ncols]*nrows\n",
    "p = np.zeros((nrows,ncols,2))"
   ]
  },
  {
   "cell_type": "code",
   "execution_count": null,
   "metadata": {},
   "outputs": [
    {
     "name": "stdout",
     "output_type": "stream",
     "text": [
      "MLE for (0,0)...\n",
      "MLE for (0,1)...\n",
      "MLE for (0,2)...\n",
      "MLE for (0,3)...\n",
      "MLE for (0,4)...\n",
      "MLE for (0,5)...\n",
      "MLE for (0,6)...\n",
      "MLE for (0,7)...\n",
      "MLE for (0,8)...\n",
      "MLE for (0,9)...\n",
      "MLE for (0,10)...\n",
      "MLE for (0,11)...\n",
      "MLE for (1,0)...\n",
      "MLE for (1,1)...\n",
      "MLE for (1,2)...\n",
      "MLE for (1,3)...\n",
      "MLE for (1,4)...\n",
      "MLE for (1,5)...\n",
      "MLE for (1,6)...\n",
      "MLE for (1,7)...\n",
      "MLE for (1,8)...\n",
      "MLE for (1,9)...\n",
      "MLE for (1,10)...\n",
      "MLE for (1,11)...\n",
      "MLE for (2,0)...\n",
      "MLE for (2,1)...\n",
      "MLE for (2,2)...\n",
      "MLE for (2,3)...\n",
      "MLE for (2,4)...\n",
      "MLE for (2,5)...\n",
      "MLE for (2,6)...\n",
      "MLE for (2,7)...\n",
      "MLE for (2,8)...\n",
      "MLE for (2,9)...\n",
      "MLE for (2,10)...\n",
      "MLE for (2,11)...\n",
      "MLE for (3,0)...\n",
      "MLE for (3,1)...\n",
      "MLE for (3,2)...\n",
      "MLE for (3,3)...\n",
      "MLE for (3,4)...\n",
      "MLE for (3,5)...\n",
      "MLE for (3,6)...\n",
      "MLE for (3,7)...\n",
      "MLE for (3,8)...\n",
      "MLE for (3,9)...\n",
      "MLE for (3,10)...\n",
      "MLE for (3,11)...\n",
      "MLE for (4,0)...\n",
      "MLE for (4,1)...\n",
      "MLE for (4,2)...\n",
      "MLE for (4,3)...\n",
      "MLE for (4,4)...\n",
      "MLE for (4,5)...\n",
      "MLE for (4,6)...\n",
      "MLE for (4,7)...\n",
      "MLE for (4,8)...\n",
      "MLE for (4,9)...\n",
      "MLE for (4,10)...\n",
      "MLE for (4,11)...\n",
      "MLE for (5,0)...\n",
      "MLE for (5,1)...\n",
      "MLE for (5,2)...\n",
      "MLE for (5,3)...\n",
      "MLE for (5,4)...\n",
      "MLE for (5,5)...\n",
      "MLE for (5,6)...\n",
      "MLE for (5,7)...\n",
      "MLE for (5,8)...\n",
      "MLE for (5,9)...\n",
      "MLE for (5,10)...\n",
      "MLE for (5,11)...\n",
      "MLE for (6,0)...\n"
     ]
    }
   ],
   "source": [
    "for i in range(0,nrows):\n",
    "    for j in range(0,ncols):\n",
    "        print('MLE for ({}/{},{}/{})...'.format(i,nrows,j,ncols))\n",
    "        d = x['durs'][i][j][0]\n",
    "        d = d[d<999]\n",
    "        if len(d) <= 1:\n",
    "            continue\n",
    "#         fit = powerlaw.Fit(d, xmin=min(d), xmax=max(d), discrete=True)\n",
    "        fit = powerlaw.Fit(d, xmin=min(d), discrete=True)\n",
    "        f[i][j] = fit\n",
    "        p[i,j] = [fit.truncated_power_law.parameter1, fit.truncated_power_law.parameter2]\n",
    "p"
   ]
  },
  {
   "cell_type": "code",
   "execution_count": 6,
   "metadata": {},
   "outputs": [
    {
     "ename": "NameError",
     "evalue": "name 'p' is not defined",
     "output_type": "error",
     "traceback": [
      "\u001b[0;31m---------------------------------------------------------------------------\u001b[0m",
      "\u001b[0;31mNameError\u001b[0m                                 Traceback (most recent call last)",
      "\u001b[0;32m<ipython-input-6-7aba1614180b>\u001b[0m in \u001b[0;36m<module>\u001b[0;34m()\u001b[0m\n\u001b[0;32m----> 1\u001b[0;31m \u001b[0msio\u001b[0m\u001b[0;34m.\u001b[0m\u001b[0msavemat\u001b[0m\u001b[0;34m(\u001b[0m\u001b[0;34m'~/Developer/tpl.mat'\u001b[0m\u001b[0;34m,\u001b[0m \u001b[0;34m{\u001b[0m\u001b[0;34m'pl_dp'\u001b[0m\u001b[0;34m:\u001b[0m\u001b[0mp\u001b[0m\u001b[0;34m}\u001b[0m\u001b[0;34m)\u001b[0m\u001b[0;34m\u001b[0m\u001b[0;34m\u001b[0m\u001b[0m\n\u001b[0m",
      "\u001b[0;31mNameError\u001b[0m: name 'p' is not defined"
     ]
    }
   ],
   "source": [
    "sio.savemat('~/Developer/tpl.mat', {'pl_dp':p})"
   ]
  }
 ],
 "metadata": {
  "kernelspec": {
   "display_name": "Python 3",
   "language": "python",
   "name": "python3"
  },
  "language_info": {
   "codemirror_mode": {
    "name": "ipython",
    "version": 3
   },
   "file_extension": ".py",
   "mimetype": "text/x-python",
   "name": "python",
   "nbconvert_exporter": "python",
   "pygments_lexer": "ipython3",
   "version": "3.6.8"
  }
 },
 "nbformat": 4,
 "nbformat_minor": 2
}
