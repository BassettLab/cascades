{
 "cells": [
  {
   "cell_type": "code",
   "execution_count": null,
   "metadata": {},
   "outputs": [],
   "source": [
    "import sys\n",
    "!{sys.executable} -m pip install --upgrade pip\n",
    "!{sys.executable} -m pip install msgpack\n",
    "!{sys.executable} -m pip install mpmath\n",
    "!{sys.executable} -m pip install powerlaw"
   ]
  },
  {
   "cell_type": "code",
   "execution_count": null,
   "metadata": {},
   "outputs": [],
   "source": [
    "import powerlaw\n",
    "import numpy as np\n",
    "import scipy.io as sio"
   ]
  },
  {
   "cell_type": "code",
   "execution_count": 57,
   "metadata": {},
   "outputs": [],
   "source": [
    "np.seterr(divide='ignore', invalid='ignore')\n",
    "x = sio.loadmat('/Users/harangju/Developer/emp_bs2.mat')\n",
    "(nrows,ncols) = x['durs'].shape\n",
    "# av_T = x['av_T'][0][0]"
   ]
  },
  {
   "cell_type": "code",
   "execution_count": 58,
   "metadata": {},
   "outputs": [
    {
     "name": "stdout",
     "output_type": "stream",
     "text": [
      "MLE for (1/1,1/25)...\n",
      "MLE for (1/1,2/25)...\n",
      "MLE for (1/1,3/25)...\n",
      "MLE for (1/1,4/25)...\n",
      "MLE for (1/1,5/25)...\n",
      "MLE for (1/1,6/25)...\n",
      "MLE for (1/1,7/25)...\n",
      "MLE for (1/1,8/25)...\n",
      "MLE for (1/1,9/25)...\n",
      "MLE for (1/1,10/25)...\n",
      "MLE for (1/1,11/25)...\n",
      "MLE for (1/1,12/25)...\n",
      "MLE for (1/1,13/25)...\n",
      "MLE for (1/1,14/25)...\n",
      "MLE for (1/1,15/25)...\n",
      "MLE for (1/1,16/25)...\n",
      "MLE for (1/1,17/25)...\n",
      "MLE for (1/1,18/25)...\n",
      "MLE for (1/1,19/25)...\n",
      "MLE for (1/1,20/25)...\n",
      "MLE for (1/1,21/25)...\n",
      "MLE for (1/1,22/25)...\n",
      "MLE for (1/1,23/25)...\n",
      "MLE for (1/1,24/25)...\n",
      "MLE for (1/1,25/25)...\n"
     ]
    },
    {
     "data": {
      "text/plain": [
       "array([[[1.00000002, 0.16931166],\n",
       "        [1.46122478, 0.2922269 ],\n",
       "        [1.00000289, 0.13295977],\n",
       "        [1.        , 0.11165021],\n",
       "        [1.07310072, 0.14390525],\n",
       "        [1.02510933, 0.07669792],\n",
       "        [1.        , 0.12751073],\n",
       "        [1.00000001, 0.22661514],\n",
       "        [1.        , 0.11708244],\n",
       "        [1.09953932, 0.07514559],\n",
       "        [1.        , 0.38270455],\n",
       "        [1.00000001, 0.38038412],\n",
       "        [1.        , 0.27076824],\n",
       "        [1.        , 0.06908438],\n",
       "        [1.00000001, 0.089092  ],\n",
       "        [1.02212295, 0.08541463],\n",
       "        [1.        , 0.16086556],\n",
       "        [1.03627313, 0.13716483],\n",
       "        [1.33030343, 0.00344664],\n",
       "        [1.20162153, 0.06142141],\n",
       "        [1.09037543, 0.40732378],\n",
       "        [1.42640298, 0.1290258 ],\n",
       "        [1.47743837, 0.00684599],\n",
       "        [1.23454673, 0.09903174],\n",
       "        [1.51968725, 0.17216562]]])"
      ]
     },
     "execution_count": 58,
     "metadata": {},
     "output_type": "execute_result"
    }
   ],
   "source": [
    "f = [[0]*ncols]*nrows\n",
    "p = np.zeros((nrows,ncols,2))\n",
    "ci = np.zeros((nrows,ncols,2,2))\n",
    "for i in range(0,1):#range(0,nrows):\n",
    "    for j in range(0,1):#range(0,ncols):\n",
    "        print('MLE for ({}/{},{}/{})...'.format(i+1,nrows,j+1,ncols))\n",
    "        d = x['durs_sim'][i][j][0]\n",
    "#         d = d[d<av_T-1]\n",
    "        if len(d) <= 1:\n",
    "            continue\n",
    "#         fit = powerlaw.Fit(d, xmin=min(d), xmax=max(d), discrete=True)\n",
    "        fit = powerlaw.Fit(d, xmin=min(d), discrete=True)\n",
    "        f[i][j] = fit\n",
    "        p[i,j] = [fit.truncated_power_law.parameter1, fit.truncated_power_law.parameter2]\n",
    "p"
   ]
  },
  {
   "cell_type": "code",
   "execution_count": 59,
   "metadata": {},
   "outputs": [],
   "source": [
    "sio.savemat('/Users/harangju/Developer/tpl.mat', {'ft_pl':p})"
   ]
  },
  {
   "cell_type": "code",
   "execution_count": 62,
   "metadata": {},
   "outputs": [
    {
     "data": {
      "text/plain": [
       "{'Asquare': 0.06231979542714454,\n",
       " 'D': 0.0532767332257752,\n",
       " 'D_minus': 0.0532767332257752,\n",
       " 'D_plus': 0.0,\n",
       " 'Kappa': 0.9939150621172391,\n",
       " 'Lambda': 0.16931166244501744,\n",
       " 'V': 0.0532767332257752,\n",
       " 'alpha': 1.0000000160582057,\n",
       " 'discrete': True,\n",
       " 'discrete_approximation': 'round',\n",
       " 'fit_method': 'Likelihood',\n",
       " 'loglikelihood': -1822206.1617821394,\n",
       " 'noise_flag': False,\n",
       " 'parameter1': 1.0000000160582057,\n",
       " 'parameter1_name': 'alpha',\n",
       " 'parameter2': 0.16931166244501744,\n",
       " 'parameter2_name': 'lambda',\n",
       " 'parameter3': None,\n",
       " 'parameter3_name': None,\n",
       " 'parent_Fit': <powerlaw.Fit at 0x180cd747b8>,\n",
       " 'xmax': None,\n",
       " 'xmin': 1.0}"
      ]
     },
     "execution_count": 62,
     "metadata": {},
     "output_type": "execute_result"
    }
   ],
   "source": [
    "vars(f[0][0].truncated_power_law)"
   ]
  }
 ],
 "metadata": {
  "kernelspec": {
   "display_name": "Python 3",
   "language": "python",
   "name": "python3"
  },
  "language_info": {
   "codemirror_mode": {
    "name": "ipython",
    "version": 3
   },
   "file_extension": ".py",
   "mimetype": "text/x-python",
   "name": "python",
   "nbconvert_exporter": "python",
   "pygments_lexer": "ipython3",
   "version": "3.6.8"
  }
 },
 "nbformat": 4,
 "nbformat_minor": 2
}
